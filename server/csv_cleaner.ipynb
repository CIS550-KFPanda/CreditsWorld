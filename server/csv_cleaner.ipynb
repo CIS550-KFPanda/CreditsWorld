{
 "cells": [
  {
   "cell_type": "code",
   "execution_count": 4,
   "metadata": {},
   "outputs": [],
   "source": [
    "import csv"
   ]
  },
  {
   "cell_type": "code",
   "execution_count": 13,
   "metadata": {},
   "outputs": [],
   "source": [
    "# credit: https://stackoverflow.com/questions/8515053/csv-error-iterator-should-return-strings-not-bytes\n",
    "with open('data_new.csv', 'rt') as f_input, open('data_new2.csv', 'wt') as f_output:\n",
    "    csv_output = csv.writer(f_output, delimiter = ',')\n",
    "\n",
    "    for row in csv.reader(f_input, delimiter = ','):\n",
    "        if int(row[0]) <= 100:\n",
    "            csv_output.writerow(row)"
   ]
  },
  {
   "cell_type": "code",
   "execution_count": null,
   "metadata": {},
   "outputs": [],
   "source": []
  }
 ],
 "metadata": {
  "kernelspec": {
   "display_name": "Python 3",
   "language": "python",
   "name": "python3"
  },
  "language_info": {
   "codemirror_mode": {
    "name": "ipython",
    "version": 3
   },
   "file_extension": ".py",
   "mimetype": "text/x-python",
   "name": "python",
   "nbconvert_exporter": "python",
   "pygments_lexer": "ipython3",
   "version": "3.6.8"
  }
 },
 "nbformat": 4,
 "nbformat_minor": 2
}
